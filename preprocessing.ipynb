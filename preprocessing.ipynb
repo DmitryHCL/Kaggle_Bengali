{
 "cells": [
  {
   "cell_type": "code",
   "execution_count": 2,
   "metadata": {},
   "outputs": [],
   "source": [
    "import numpy as np\n",
    "import pandas as pd\n",
    "import cv2\n",
    "import os"
   ]
  },
  {
   "cell_type": "code",
   "execution_count": 3,
   "outputs": [],
   "source": [
    "input_path = 'C:/SSD_Projects/Bengali_git/input/'\n",
    "train_df_ = pd.read_csv(os.path.join(input_path,'train.csv'))\n",
    "HEIGHT = 137\n",
    "WIDTH = 236\n",
    "img_size = 128"
   ],
   "metadata": {
    "collapsed": false,
    "pycharm": {
     "name": "#%%\n"
    }
   }
  },
  {
   "cell_type": "code",
   "execution_count": 4,
   "outputs": [],
   "source": [
    "def read_data(nf):\n",
    "    nf=int(nf)\n",
    "    train_df = pd.read_feather(os.path.join(input_path,f'train_image_data_{nf}.feather'))\n",
    "    return train_df\n",
    "def bbox(img):\n",
    "    rows = np.any(img, axis=1)\n",
    "    cols = np.any(img, axis=0)\n",
    "    rmin, rmax = np.where(rows)[0][[0, -1]]\n",
    "    cmin, cmax = np.where(cols)[0][[0, -1]]\n",
    "    return rmin, rmax, cmin, cmax\n",
    "def resize(df, img_size = 128, pad=16):\n",
    "    resized = {}\n",
    "    for i in range(df.shape[0]):\n",
    "        image = 255 - df.loc[df.index[i]].values.reshape(137,236)\n",
    "        ymin,ymax,xmin,xmax = bbox(image[5:-5,5:-5] > 60)\n",
    "        xmin = xmin - 13 if (xmin > 13) else 0\n",
    "        ymin = ymin - 10 if (ymin > 10) else 0\n",
    "        xmax = xmax + 13 if (xmax < WIDTH - 13) else WIDTH\n",
    "        ymax = ymax + 10 if (ymax < HEIGHT - 10) else HEIGHT\n",
    "        image = image[ymin:ymax,xmin:xmax]\n",
    "        image[image < 28] = 0\n",
    "        lx, ly = xmax-xmin,ymax-ymin\n",
    "        l = max(lx,ly) + pad\n",
    "        image = np.pad(image, [((l-ly)//2,), ((l-lx)//2,)], mode='constant')\n",
    "        image = cv2.resize(image,(img_size,img_size))\n",
    "        resized[df.index[i]] = image.reshape(-1)\n",
    "    resized = pd.DataFrame(resized).T\n",
    "    return resized"
   ],
   "metadata": {
    "collapsed": false,
    "pycharm": {
     "name": "#%%\n"
    }
   }
  },
  {
   "cell_type": "code",
   "execution_count": 4,
   "outputs": [],
   "source": [
    "for i in range(4):\n",
    "    train_df = pd.merge(read_data(i), train_df_, on='image_id').drop(['image_id','grapheme'], axis=1)\n",
    "    x_train = train_df.drop(['grapheme_root', 'vowel_diacritic', 'consonant_diacritic'], axis=1)\n",
    "    x_train = np.divide(resize(x_train), 255.0, dtype = 'float16')\n",
    "    x_train = x_train.values.reshape(-1, img_size, img_size, 1)\n",
    "    np.save((os.path.join(input_path,f'train_image_data_{i}')),x_train)\n",
    "\n",
    "\n"
   ],
   "metadata": {
    "collapsed": false,
    "pycharm": {
     "name": "#%%\n"
    }
   }
  }
 ],
 "metadata": {
  "kernelspec": {
   "display_name": "Python 3",
   "language": "python",
   "name": "python3"
  },
  "language_info": {
   "codemirror_mode": {
    "name": "ipython",
    "version": 3
   },
   "file_extension": ".py",
   "mimetype": "text/x-python",
   "name": "python",
   "nbconvert_exporter": "python",
   "pygments_lexer": "ipython3",
   "version": "3.7.6"
  }
 },
 "nbformat": 4,
 "nbformat_minor": 4
}