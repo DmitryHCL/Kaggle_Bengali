{
 "cells": [
  {
   "cell_type": "code",
   "execution_count": 1,
   "metadata": {
    "collapsed": true
   },
   "outputs": [],
   "source": [
    "import numpy as np\n",
    "import pandas as pd\n",
    "\n",
    "import tensorflow as tf\n",
    "from tensorflow.keras.models import load_model\n",
    "import cv2\n",
    "\n"
   ]
  },
  {
   "cell_type": "code",
   "execution_count": 2,
   "outputs": [
    {
     "ename": "OSError",
     "evalue": "SavedModel file does not exist at: /kaggle/input/128-mixup/128_mixup_next_next.h5/{saved_model.pbtxt|saved_model.pb}",
     "output_type": "error",
     "traceback": [
      "\u001B[1;31m---------------------------------------------------------------------------\u001B[0m",
      "\u001B[1;31mOSError\u001B[0m                                   Traceback (most recent call last)",
      "\u001B[1;32m<ipython-input-2-3e81389c1b34>\u001B[0m in \u001B[0;36m<module>\u001B[1;34m\u001B[0m\n\u001B[0;32m      3\u001B[0m \u001B[0mimg_size\u001B[0m \u001B[1;33m=\u001B[0m \u001B[1;36m128\u001B[0m\u001B[1;33m\u001B[0m\u001B[1;33m\u001B[0m\u001B[0m\n\u001B[0;32m      4\u001B[0m \u001B[0mHEIGHT\u001B[0m \u001B[1;33m=\u001B[0m \u001B[1;36m137\u001B[0m\u001B[1;33m\u001B[0m\u001B[1;33m\u001B[0m\u001B[0m\n\u001B[1;32m----> 5\u001B[1;33m \u001B[0mmodel\u001B[0m \u001B[1;33m=\u001B[0m \u001B[0mtf\u001B[0m\u001B[1;33m.\u001B[0m\u001B[0mkeras\u001B[0m\u001B[1;33m.\u001B[0m\u001B[0mmodels\u001B[0m\u001B[1;33m.\u001B[0m\u001B[0mload_model\u001B[0m\u001B[1;33m(\u001B[0m\u001B[1;34m'/kaggle/input/128-mixup/128_mixup_next_next.h5'\u001B[0m\u001B[1;33m)\u001B[0m\u001B[1;33m\u001B[0m\u001B[1;33m\u001B[0m\u001B[0m\n\u001B[0m\u001B[0;32m      6\u001B[0m \u001B[1;32mdef\u001B[0m \u001B[0mbbox\u001B[0m\u001B[1;33m(\u001B[0m\u001B[0mimg\u001B[0m\u001B[1;33m)\u001B[0m\u001B[1;33m:\u001B[0m\u001B[1;33m\u001B[0m\u001B[1;33m\u001B[0m\u001B[0m\n\u001B[0;32m      7\u001B[0m     \u001B[0mrows\u001B[0m \u001B[1;33m=\u001B[0m \u001B[0mnp\u001B[0m\u001B[1;33m.\u001B[0m\u001B[0many\u001B[0m\u001B[1;33m(\u001B[0m\u001B[0mimg\u001B[0m\u001B[1;33m,\u001B[0m \u001B[0maxis\u001B[0m\u001B[1;33m=\u001B[0m\u001B[1;36m1\u001B[0m\u001B[1;33m)\u001B[0m\u001B[1;33m\u001B[0m\u001B[1;33m\u001B[0m\u001B[0m\n",
      "\u001B[1;32mC:\\code\\lib\\site-packages\\tensorflow_core\\python\\keras\\saving\\save.py\u001B[0m in \u001B[0;36mload_model\u001B[1;34m(filepath, custom_objects, compile)\u001B[0m\n\u001B[0;32m    147\u001B[0m \u001B[1;33m\u001B[0m\u001B[0m\n\u001B[0;32m    148\u001B[0m   \u001B[1;32mif\u001B[0m \u001B[0misinstance\u001B[0m\u001B[1;33m(\u001B[0m\u001B[0mfilepath\u001B[0m\u001B[1;33m,\u001B[0m \u001B[0msix\u001B[0m\u001B[1;33m.\u001B[0m\u001B[0mstring_types\u001B[0m\u001B[1;33m)\u001B[0m\u001B[1;33m:\u001B[0m\u001B[1;33m\u001B[0m\u001B[1;33m\u001B[0m\u001B[0m\n\u001B[1;32m--> 149\u001B[1;33m     \u001B[0mloader_impl\u001B[0m\u001B[1;33m.\u001B[0m\u001B[0mparse_saved_model\u001B[0m\u001B[1;33m(\u001B[0m\u001B[0mfilepath\u001B[0m\u001B[1;33m)\u001B[0m\u001B[1;33m\u001B[0m\u001B[1;33m\u001B[0m\u001B[0m\n\u001B[0m\u001B[0;32m    150\u001B[0m     \u001B[1;32mreturn\u001B[0m \u001B[0msaved_model_load\u001B[0m\u001B[1;33m.\u001B[0m\u001B[0mload\u001B[0m\u001B[1;33m(\u001B[0m\u001B[0mfilepath\u001B[0m\u001B[1;33m,\u001B[0m \u001B[0mcompile\u001B[0m\u001B[1;33m)\u001B[0m\u001B[1;33m\u001B[0m\u001B[1;33m\u001B[0m\u001B[0m\n\u001B[0;32m    151\u001B[0m \u001B[1;33m\u001B[0m\u001B[0m\n",
      "\u001B[1;32mC:\\code\\lib\\site-packages\\tensorflow_core\\python\\saved_model\\loader_impl.py\u001B[0m in \u001B[0;36mparse_saved_model\u001B[1;34m(export_dir)\u001B[0m\n\u001B[0;32m     81\u001B[0m                   (export_dir,\n\u001B[0;32m     82\u001B[0m                    \u001B[0mconstants\u001B[0m\u001B[1;33m.\u001B[0m\u001B[0mSAVED_MODEL_FILENAME_PBTXT\u001B[0m\u001B[1;33m,\u001B[0m\u001B[1;33m\u001B[0m\u001B[1;33m\u001B[0m\u001B[0m\n\u001B[1;32m---> 83\u001B[1;33m                    constants.SAVED_MODEL_FILENAME_PB))\n\u001B[0m\u001B[0;32m     84\u001B[0m \u001B[1;33m\u001B[0m\u001B[0m\n\u001B[0;32m     85\u001B[0m \u001B[1;33m\u001B[0m\u001B[0m\n",
      "\u001B[1;31mOSError\u001B[0m: SavedModel file does not exist at: /kaggle/input/128-mixup/128_mixup_next_next.h5/{saved_model.pbtxt|saved_model.pb}"
     ]
    }
   ],
   "source": [
    "batch_size = 32\n",
    "img_size = 128\n",
    "WIDTH = 236\n",
    "HEIGHT = 137\n",
    "model = load_model('/kaggle/input/128-mixup/model.h5')\n",
    "def bbox(img):\n",
    "    rows = np.any(img, axis=1)\n",
    "    cols = np.any(img, axis=0)\n",
    "    rmin, rmax = np.where(rows)[0][[0, -1]]\n",
    "    cmin, cmax = np.where(cols)[0][[0, -1]]\n",
    "    return rmin, rmax, cmin, cmax\n",
    "def resize(df, img_size = 128, pad=16):\n",
    "    resized = {}\n",
    "    for i in range(df.shape[0]):\n",
    "        image = 255 - df.loc[df.index[i]].values.reshape(137,236)\n",
    "        ymin,ymax,xmin,xmax = bbox(image[5:-5,5:-5] > 60)\n",
    "        xmin = xmin - 13 if (xmin > 13) else 0\n",
    "        ymin = ymin - 10 if (ymin > 10) else 0\n",
    "        xmax = xmax + 13 if (xmax < WIDTH - 13) else WIDTH\n",
    "        ymax = ymax + 10 if (ymax < HEIGHT - 10) else HEIGHT\n",
    "        image = image[ymin:ymax,xmin:xmax]\n",
    "        image[image < 28] = 0\n",
    "        lx, ly = xmax-xmin,ymax-ymin\n",
    "        l = max(lx,ly) + pad\n",
    "        image = np.pad(image, [((l-ly)//2,), ((l-lx)//2,)], mode='constant')\n",
    "        image = cv2.resize(image,(img_size,img_size))\n",
    "        resized[df.index[i]] = image.reshape(-1)\n",
    "    resized = pd.DataFrame(resized).T\n",
    "    return resized"
   ],
   "metadata": {
    "collapsed": false,
    "pycharm": {
     "name": "#%%\n"
    }
   }
  },
  {
   "cell_type": "code",
   "execution_count": null,
   "outputs": [],
   "source": [
    "preds_dict = {\n",
    "    'grapheme_root': [],\n",
    "    'vowel_diacritic': [],\n",
    "    'consonant_diacritic': []\n",
    "}\n",
    "components = ['grapheme_root', 'vowel_diacritic', 'consonant_diacritic']\n",
    "target=[]\n",
    "row_id=[]"
   ],
   "metadata": {
    "collapsed": false,
    "pycharm": {
     "name": "#%%\n"
    }
   }
  },
  {
   "cell_type": "code",
   "execution_count": null,
   "outputs": [],
   "source": [
    "for i in range(4):\n",
    "    print ('step')\n",
    "    df_test_img = np.array_split((pd.read_parquet(f'/kaggle/input/bengaliai-cv19/test_image_data_{i}.parquet').set_index('image_id', drop=True).astype('uint8')) , 3)\n",
    "\n",
    "    for s in range(3):\n",
    "        print ('resize')\n",
    "        X_test = np.divide(resize(df_test_img[s]), 255.0, dtype = 'float16')\n",
    "        X_test = X_test.values.reshape(-1, img_size, img_size, 1)\n",
    "        print ('predicting')\n",
    "        preds = model.predict(x = X_test, batch_size = batch_size)\n",
    "\n",
    "        del X_test\n",
    "\n",
    "        for j, p in enumerate(preds_dict):\n",
    "            preds_dict[p] = np.argmax(preds[j], axis=1)\n",
    "\n",
    "        for k,id in enumerate(df_test_img[s].index.values):\n",
    "            for i,comp in enumerate(components):\n",
    "                id_sample=id+'_'+comp\n",
    "                row_id.append(id_sample)\n",
    "                target.append(preds_dict[comp][k])"
   ],
   "metadata": {
    "collapsed": false,
    "pycharm": {
     "name": "#%%\n"
    }
   }
  },
  {
   "cell_type": "code",
   "execution_count": null,
   "outputs": [],
   "source": [
    "submit_df = pd.DataFrame({'row_id':row_id,'target':target}, columns = ['row_id','target'])\n",
    "submit_df.to_csv('submission.csv', index = False)"
   ],
   "metadata": {
    "collapsed": false,
    "pycharm": {
     "name": "#%%\n"
    }
   }
  },
  {
   "cell_type": "code",
   "execution_count": null,
   "outputs": [],
   "source": [
    "submit_df.head(50)"
   ],
   "metadata": {
    "collapsed": false,
    "pycharm": {
     "name": "#%%\n"
    }
   }
  }
 ],
 "metadata": {
  "kernelspec": {
   "display_name": "Python 3",
   "language": "python",
   "name": "python3"
  },
  "language_info": {
   "codemirror_mode": {
    "name": "ipython",
    "version": 2
   },
   "file_extension": ".py",
   "mimetype": "text/x-python",
   "name": "python",
   "nbconvert_exporter": "python",
   "pygments_lexer": "ipython2",
   "version": "2.7.6"
  }
 },
 "nbformat": 4,
 "nbformat_minor": 0
}