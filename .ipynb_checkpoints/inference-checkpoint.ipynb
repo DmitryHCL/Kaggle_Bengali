{
 "cells": [
  {
   "cell_type": "code",
   "execution_count": null,
   "metadata": {},
   "outputs": [],
   "source": [
    "import numpy as np\n",
    "import pandas as pd\n",
    "\n",
    "import tensorflow as tf\n",
    "from tensorflow.keras.models import load_model\n",
    "import cv2\n",
    "\n"
   ]
  },
  {
   "cell_type": "code",
   "execution_count": null,
   "metadata": {
    "collapsed": false,
    "jupyter": {
     "outputs_hidden": false
    },
    "pycharm": {
     "name": "#%%\n"
    }
   },
   "outputs": [],
   "source": [
    "batch_size = 32\n",
    "img_size = 128\n",
    "WIDTH = 236\n",
    "HEIGHT = 137\n",
    "model = load_model('/kaggle/input/128-mixup/model.h5')\n",
    "def bbox(img):\n",
    "    rows = np.any(img, axis=1)\n",
    "    cols = np.any(img, axis=0)\n",
    "    rmin, rmax = np.where(rows)[0][[0, -1]]\n",
    "    cmin, cmax = np.where(cols)[0][[0, -1]]\n",
    "    return rmin, rmax, cmin, cmax\n",
    "def resize(df, img_size = 128, pad=16):\n",
    "    resized = {}\n",
    "    for i in range(df.shape[0]):\n",
    "        image = 255 - df.loc[df.index[i]].values.reshape(137,236)\n",
    "        ymin,ymax,xmin,xmax = bbox(image[5:-5,5:-5] > 60)\n",
    "        xmin = xmin - 13 if (xmin > 13) else 0\n",
    "        ymin = ymin - 10 if (ymin > 10) else 0\n",
    "        xmax = xmax + 13 if (xmax < WIDTH - 13) else WIDTH\n",
    "        ymax = ymax + 10 if (ymax < HEIGHT - 10) else HEIGHT\n",
    "        image = image[ymin:ymax,xmin:xmax]\n",
    "        image[image < 28] = 0\n",
    "        lx, ly = xmax-xmin,ymax-ymin\n",
    "        l = max(lx,ly) + pad\n",
    "        image = np.pad(image, [((l-ly)//2,), ((l-lx)//2,)], mode='constant')\n",
    "        image = cv2.resize(image,(img_size,img_size))\n",
    "        resized[df.index[i]] = image.reshape(-1)\n",
    "    resized = pd.DataFrame(resized).T\n",
    "    return resized"
   ]
  },
  {
   "cell_type": "code",
   "execution_count": null,
   "metadata": {
    "collapsed": false,
    "jupyter": {
     "outputs_hidden": false
    },
    "pycharm": {
     "name": "#%%\n"
    }
   },
   "outputs": [],
   "source": [
    "preds_dict = {\n",
    "    'grapheme_root': [],\n",
    "    'vowel_diacritic': [],\n",
    "    'consonant_diacritic': []\n",
    "}\n",
    "components = ['grapheme_root', 'vowel_diacritic', 'consonant_diacritic']\n",
    "target=[]\n",
    "row_id=[]"
   ]
  },
  {
   "cell_type": "code",
   "execution_count": null,
   "metadata": {
    "collapsed": false,
    "jupyter": {
     "outputs_hidden": false
    },
    "pycharm": {
     "name": "#%%\n"
    }
   },
   "outputs": [],
   "source": [
    "for i in range(4):\n",
    "    print ('step')\n",
    "    df_test_img = np.array_split((pd.read_parquet(f'/kaggle/input/bengaliai-cv19/test_image_data_{i}.parquet').set_index('image_id', drop=True).astype('uint8')) , 3)\n",
    "\n",
    "    for s in range(3):\n",
    "        print ('resize')\n",
    "        X_test = np.divide(resize(df_test_img[s]), 255.0, dtype = 'float16')\n",
    "        X_test = X_test.values.reshape(-1, img_size, img_size, 1)\n",
    "        print ('predicting')\n",
    "        preds = model.predict(x = X_test, batch_size = batch_size)\n",
    "\n",
    "        del X_test\n",
    "\n",
    "        for j, p in enumerate(preds_dict):\n",
    "            preds_dict[p] = np.argmax(preds[j], axis=1)\n",
    "\n",
    "        for k,id in enumerate(df_test_img[s].index.values):\n",
    "            for i,comp in enumerate(components):\n",
    "                id_sample=id+'_'+comp\n",
    "                row_id.append(id_sample)\n",
    "                target.append(preds_dict[comp][k])"
   ]
  },
  {
   "cell_type": "code",
   "execution_count": null,
   "metadata": {
    "collapsed": false,
    "jupyter": {
     "outputs_hidden": false
    },
    "pycharm": {
     "name": "#%%\n"
    }
   },
   "outputs": [],
   "source": [
    "submit_df = pd.DataFrame({'row_id':row_id,'target':target}, columns = ['row_id','target'])\n",
    "submit_df.to_csv('submission.csv', index = False)"
   ]
  },
  {
   "cell_type": "code",
   "execution_count": null,
   "metadata": {
    "collapsed": false,
    "jupyter": {
     "outputs_hidden": false
    },
    "pycharm": {
     "name": "#%%\n"
    }
   },
   "outputs": [],
   "source": [
    "submit_df.head(50)"
   ]
  }
 ],
 "metadata": {
  "kernelspec": {
   "display_name": "Python 3",
   "language": "python",
   "name": "python3"
  },
  "language_info": {
   "codemirror_mode": {
    "name": "ipython",
    "version": 3
   },
   "file_extension": ".py",
   "mimetype": "text/x-python",
   "name": "python",
   "nbconvert_exporter": "python",
   "pygments_lexer": "ipython3",
   "version": "3.7.6"
  }
 },
 "nbformat": 4,
 "nbformat_minor": 4
}
